{
 "cells": [
  {
   "cell_type": "code",
   "execution_count": 2,
   "metadata": {},
   "outputs": [],
   "source": [
    "import pandas as pd\n",
    "import matplotlib.pyplot as plt\n",
    "import seaborn as sns\n",
    "import scipy.stats as stats\n",
    "from sklearn.model_selection import train_test_split\n",
    "from sklearn.linear_model import LogisticRegression\n",
    "import pingouin as pg\n",
    "import statsmodels.api as sm"
   ]
  },
  {
   "cell_type": "code",
   "execution_count": 3,
   "metadata": {},
   "outputs": [],
   "source": [
    "email = pd.read_csv('email/email_table.csv')\n",
    "email_opened = pd.read_csv('email/email_opened_table.csv')\n",
    "link_clicked = pd.read_csv('email/link_clicked_table.csv')"
   ]
  },
  {
   "cell_type": "code",
   "execution_count": 4,
   "metadata": {},
   "outputs": [],
   "source": [
    "# email_opened=email_opened.merge(email,left_on='email_id',right_on='email_id',how='left')\n",
    "# link_clicked=link_clicked.merge(email,left_on='email_id',right_on='email_id',how='left')"
   ]
  },
  {
   "cell_type": "code",
   "execution_count": 5,
   "metadata": {},
   "outputs": [
    {
     "name": "stdout",
     "output_type": "stream",
     "text": [
      "percentage of users opened the email: 10.35 %\n",
      "percentage of users clicked the link: 2.12 %\n"
     ]
    }
   ],
   "source": [
    "print('percentage of users opened the email: %.2f'%(email_opened.shape[0]/email.shape[0]*100),'%')\n",
    "print('percentage of users clicked the link: %.2f'%(link_clicked.shape[0]/email.shape[0]*100),'%')"
   ]
  },
  {
   "cell_type": "markdown",
   "metadata": {},
   "source": [
    "# click link\n"
   ]
  },
  {
   "cell_type": "code",
   "execution_count": 6,
   "metadata": {},
   "outputs": [],
   "source": [
    "email['link_clicked'] = email['email_id'].agg(lambda x: 1 if x in link_clicked['email_id'].to_list() else 0)\n",
    "email = pd.get_dummies(email,drop_first=True)"
   ]
  },
  {
   "cell_type": "code",
   "execution_count": 7,
   "metadata": {},
   "outputs": [
    {
     "name": "stdout",
     "output_type": "stream",
     "text": [
      "Optimization terminated successfully.\n",
      "         Current function value: 0.094930\n",
      "         Iterations 9\n"
     ]
    }
   ],
   "source": [
    "email['intercept'] = 1\n",
    "logit=sm.Logit(email.link_clicked,email.drop('link_clicked',axis=1))\n",
    "output = logit.fit()"
   ]
  },
  {
   "cell_type": "code",
   "execution_count": 93,
   "metadata": {},
   "outputs": [
    {
     "data": {
      "text/html": [
       "<div>\n",
       "<style scoped>\n",
       "    .dataframe tbody tr th:only-of-type {\n",
       "        vertical-align: middle;\n",
       "    }\n",
       "\n",
       "    .dataframe tbody tr th {\n",
       "        vertical-align: top;\n",
       "    }\n",
       "\n",
       "    .dataframe thead th {\n",
       "        text-align: right;\n",
       "    }\n",
       "</style>\n",
       "<table border=\"1\" class=\"dataframe\">\n",
       "  <thead>\n",
       "    <tr style=\"text-align: right;\">\n",
       "      <th></th>\n",
       "      <th>coefficients</th>\n",
       "      <th>SE</th>\n",
       "      <th>z</th>\n",
       "      <th>p_values</th>\n",
       "    </tr>\n",
       "  </thead>\n",
       "  <tbody>\n",
       "    <tr>\n",
       "      <th>hour</th>\n",
       "      <td>0.016792</td>\n",
       "      <td>0.004944</td>\n",
       "      <td>3.396387</td>\n",
       "      <td>6.828168e-04</td>\n",
       "    </tr>\n",
       "    <tr>\n",
       "      <th>user_past_purchases</th>\n",
       "      <td>0.183822</td>\n",
       "      <td>0.005672</td>\n",
       "      <td>32.410134</td>\n",
       "      <td>1.975787e-230</td>\n",
       "    </tr>\n",
       "    <tr>\n",
       "      <th>email_text_short_email</th>\n",
       "      <td>0.267303</td>\n",
       "      <td>0.044721</td>\n",
       "      <td>5.977168</td>\n",
       "      <td>2.270500e-09</td>\n",
       "    </tr>\n",
       "    <tr>\n",
       "      <th>email_version_personalized</th>\n",
       "      <td>0.610270</td>\n",
       "      <td>0.046169</td>\n",
       "      <td>13.218056</td>\n",
       "      <td>6.902455e-40</td>\n",
       "    </tr>\n",
       "    <tr>\n",
       "      <th>weekday_Monday</th>\n",
       "      <td>0.493962</td>\n",
       "      <td>0.091356</td>\n",
       "      <td>5.406972</td>\n",
       "      <td>6.409898e-08</td>\n",
       "    </tr>\n",
       "    <tr>\n",
       "      <th>weekday_Saturday</th>\n",
       "      <td>0.239995</td>\n",
       "      <td>0.095666</td>\n",
       "      <td>2.508669</td>\n",
       "      <td>1.211869e-02</td>\n",
       "    </tr>\n",
       "    <tr>\n",
       "      <th>weekday_Thursday</th>\n",
       "      <td>0.570977</td>\n",
       "      <td>0.090386</td>\n",
       "      <td>6.317124</td>\n",
       "      <td>2.664760e-10</td>\n",
       "    </tr>\n",
       "    <tr>\n",
       "      <th>weekday_Tuesday</th>\n",
       "      <td>0.571331</td>\n",
       "      <td>0.090280</td>\n",
       "      <td>6.328405</td>\n",
       "      <td>2.477091e-10</td>\n",
       "    </tr>\n",
       "    <tr>\n",
       "      <th>weekday_Wednesday</th>\n",
       "      <td>0.707766</td>\n",
       "      <td>0.088769</td>\n",
       "      <td>7.973150</td>\n",
       "      <td>1.546800e-15</td>\n",
       "    </tr>\n",
       "    <tr>\n",
       "      <th>user_country_UK</th>\n",
       "      <td>1.139571</td>\n",
       "      <td>0.119947</td>\n",
       "      <td>9.500642</td>\n",
       "      <td>2.085993e-21</td>\n",
       "    </tr>\n",
       "    <tr>\n",
       "      <th>user_country_US</th>\n",
       "      <td>1.123651</td>\n",
       "      <td>0.113889</td>\n",
       "      <td>9.866221</td>\n",
       "      <td>5.832074e-23</td>\n",
       "    </tr>\n",
       "    <tr>\n",
       "      <th>intercept</th>\n",
       "      <td>-6.754374</td>\n",
       "      <td>0.152835</td>\n",
       "      <td>-44.193838</td>\n",
       "      <td>0.000000e+00</td>\n",
       "    </tr>\n",
       "  </tbody>\n",
       "</table>\n",
       "</div>"
      ],
      "text/plain": [
       "                            coefficients        SE          z       p_values\n",
       "hour                            0.016792  0.004944   3.396387   6.828168e-04\n",
       "user_past_purchases             0.183822  0.005672  32.410134  1.975787e-230\n",
       "email_text_short_email          0.267303  0.044721   5.977168   2.270500e-09\n",
       "email_version_personalized      0.610270  0.046169  13.218056   6.902455e-40\n",
       "weekday_Monday                  0.493962  0.091356   5.406972   6.409898e-08\n",
       "weekday_Saturday                0.239995  0.095666   2.508669   1.211869e-02\n",
       "weekday_Thursday                0.570977  0.090386   6.317124   2.664760e-10\n",
       "weekday_Tuesday                 0.571331  0.090280   6.328405   2.477091e-10\n",
       "weekday_Wednesday               0.707766  0.088769   7.973150   1.546800e-15\n",
       "user_country_UK                 1.139571  0.119947   9.500642   2.085993e-21\n",
       "user_country_US                 1.123651  0.113889   9.866221   5.832074e-23\n",
       "intercept                      -6.754374  0.152835 -44.193838   0.000000e+00"
      ]
     },
     "execution_count": 93,
     "metadata": {},
     "output_type": "execute_result"
    }
   ],
   "source": [
    "output_table=pd.DataFrame(dict(coefficients=output.params,SE=output.bse,z=output.tvalues,p_values=output.pvalues))\n",
    "output_table[output_table.p_values <= 0.05]"
   ]
  },
  {
   "cell_type": "code",
   "execution_count": 94,
   "metadata": {},
   "outputs": [],
   "source": [
    "import graphviz\n",
    "from sklearn.tree import DecisionTreeClassifier\n",
    "from sklearn.tree import export_graphviz\n",
    "from graphviz import Source"
   ]
  },
  {
   "cell_type": "code",
   "execution_count": 97,
   "metadata": {},
   "outputs": [],
   "source": [
    "data = pd.read_csv('https://drive.google.com/uc?export=download&id=1PXjbqSMu__d_ppEv92i_Gnx3kKgfvhFk') \n",
    "data_dummy = pd.get_dummies(data, drop_first=True) \n",
    "train_cols = data_dummy.drop('clicked', axis=1)"
   ]
  },
  {
   "cell_type": "code",
   "execution_count": 99,
   "metadata": {},
   "outputs": [
    {
     "data": {
      "text/plain": [
       "DecisionTreeClassifier(ccp_alpha=0.0, class_weight='balanced', criterion='gini',\n",
       "                       max_depth=4, max_features=None, max_leaf_nodes=None,\n",
       "                       min_impurity_decrease=0.001, min_impurity_split=None,\n",
       "                       min_samples_leaf=1, min_samples_split=2,\n",
       "                       min_weight_fraction_leaf=0.0, presort='deprecated',\n",
       "                       random_state=None, splitter='best')"
      ]
     },
     "execution_count": 99,
     "metadata": {},
     "output_type": "execute_result"
    }
   ],
   "source": [
    "tree = DecisionTreeClassifier(max_depth=4,class_weight='balanced',min_impurity_decrease=0.001)\n",
    "tree.fit(train_cols,data_dummy['clicked'])\n",
    "export_graphviz(tree,feature_names=train_cols.columns,proportion=True,rotate=True,out_file='tree_case_2.dot')\n",
    "Source.from_file('tree_case_2.dot')"
   ]
  },
  {
   "cell_type": "code",
   "execution_count": 258,
   "metadata": {},
   "outputs": [
    {
     "ename": "ValueError",
     "evalue": "The only valid preset for class_weight is \"balanced\". Given \"auto\".",
     "output_type": "error",
     "traceback": [
      "\u001b[0;31m---------------------------------------------------------------------------\u001b[0m",
      "\u001b[0;31mValueError\u001b[0m                                Traceback (most recent call last)",
      "\u001b[0;32m<ipython-input-258-7aa39272ee68>\u001b[0m in \u001b[0;36m<module>\u001b[0;34m\u001b[0m\n\u001b[1;32m      1\u001b[0m \u001b[0mtree\u001b[0m \u001b[0;34m=\u001b[0m \u001b[0mDecisionTreeClassifier\u001b[0m\u001b[0;34m(\u001b[0m\u001b[0mmax_depth\u001b[0m\u001b[0;34m=\u001b[0m\u001b[0;36m4\u001b[0m\u001b[0;34m,\u001b[0m\u001b[0mclass_weight\u001b[0m\u001b[0;34m=\u001b[0m\u001b[0;34m'auto'\u001b[0m\u001b[0;34m,\u001b[0m\u001b[0mmin_impurity_decrease\u001b[0m\u001b[0;34m=\u001b[0m\u001b[0;36m0.001\u001b[0m\u001b[0;34m)\u001b[0m\u001b[0;34m\u001b[0m\u001b[0;34m\u001b[0m\u001b[0m\n\u001b[0;32m----> 2\u001b[0;31m \u001b[0mtree\u001b[0m\u001b[0;34m.\u001b[0m\u001b[0mfit\u001b[0m\u001b[0;34m(\u001b[0m\u001b[0mtrain_cols\u001b[0m\u001b[0;34m,\u001b[0m\u001b[0mdata_dummy\u001b[0m\u001b[0;34m[\u001b[0m\u001b[0;34m'clicked'\u001b[0m\u001b[0;34m]\u001b[0m\u001b[0;34m)\u001b[0m\u001b[0;34m\u001b[0m\u001b[0;34m\u001b[0m\u001b[0m\n\u001b[0m\u001b[1;32m      3\u001b[0m \u001b[0mexport_graphviz\u001b[0m\u001b[0;34m(\u001b[0m\u001b[0mtree\u001b[0m\u001b[0;34m,\u001b[0m\u001b[0mfeature_names\u001b[0m\u001b[0;34m=\u001b[0m\u001b[0mtrain_cols\u001b[0m\u001b[0;34m.\u001b[0m\u001b[0mcolumns\u001b[0m\u001b[0;34m,\u001b[0m\u001b[0mproportion\u001b[0m\u001b[0;34m=\u001b[0m\u001b[0;32mTrue\u001b[0m\u001b[0;34m,\u001b[0m\u001b[0mrotate\u001b[0m\u001b[0;34m=\u001b[0m\u001b[0;32mTrue\u001b[0m\u001b[0;34m,\u001b[0m\u001b[0mout_file\u001b[0m\u001b[0;34m=\u001b[0m\u001b[0;34m'tree_case_2.dot'\u001b[0m\u001b[0;34m)\u001b[0m\u001b[0;34m\u001b[0m\u001b[0;34m\u001b[0m\u001b[0m\n\u001b[1;32m      4\u001b[0m \u001b[0mSource\u001b[0m\u001b[0;34m.\u001b[0m\u001b[0mfrom_file\u001b[0m\u001b[0;34m(\u001b[0m\u001b[0;34m'tree_case_2.dot'\u001b[0m\u001b[0;34m)\u001b[0m\u001b[0;34m\u001b[0m\u001b[0;34m\u001b[0m\u001b[0m\n",
      "\u001b[0;32m~/anaconda3/lib/python3.6/site-packages/sklearn/tree/_classes.py\u001b[0m in \u001b[0;36mfit\u001b[0;34m(self, X, y, sample_weight, check_input, X_idx_sorted)\u001b[0m\n\u001b[1;32m    874\u001b[0m             \u001b[0;31m`\u001b[0m\u001b[0;31m`\u001b[0m\u001b[0mdtype\u001b[0m\u001b[0;34m=\u001b[0m\u001b[0mnp\u001b[0m\u001b[0;34m.\u001b[0m\u001b[0mfloat32\u001b[0m\u001b[0;31m`\u001b[0m\u001b[0;31m`\u001b[0m \u001b[0;32mand\u001b[0m \u001b[0;32mif\u001b[0m \u001b[0ma\u001b[0m \u001b[0msparse\u001b[0m \u001b[0mmatrix\u001b[0m \u001b[0;32mis\u001b[0m \u001b[0mprovided\u001b[0m\u001b[0;34m\u001b[0m\u001b[0;34m\u001b[0m\u001b[0m\n\u001b[1;32m    875\u001b[0m             \u001b[0mto\u001b[0m \u001b[0ma\u001b[0m \u001b[0msparse\u001b[0m\u001b[0;31m \u001b[0m\u001b[0;31m`\u001b[0m\u001b[0;31m`\u001b[0m\u001b[0mcsc_matrix\u001b[0m\u001b[0;31m`\u001b[0m\u001b[0;31m`\u001b[0m\u001b[0;34m.\u001b[0m\u001b[0;34m\u001b[0m\u001b[0;34m\u001b[0m\u001b[0m\n\u001b[0;32m--> 876\u001b[0;31m \u001b[0;34m\u001b[0m\u001b[0m\n\u001b[0m\u001b[1;32m    877\u001b[0m         \u001b[0my\u001b[0m \u001b[0;34m:\u001b[0m \u001b[0marray\u001b[0m\u001b[0;34m-\u001b[0m\u001b[0mlike\u001b[0m \u001b[0mof\u001b[0m \u001b[0mshape\u001b[0m \u001b[0;34m(\u001b[0m\u001b[0mn_samples\u001b[0m\u001b[0;34m,\u001b[0m\u001b[0;34m)\u001b[0m \u001b[0;32mor\u001b[0m \u001b[0;34m(\u001b[0m\u001b[0mn_samples\u001b[0m\u001b[0;34m,\u001b[0m \u001b[0mn_outputs\u001b[0m\u001b[0;34m)\u001b[0m\u001b[0;34m\u001b[0m\u001b[0;34m\u001b[0m\u001b[0m\n\u001b[1;32m    878\u001b[0m             \u001b[0mThe\u001b[0m \u001b[0mtarget\u001b[0m \u001b[0mvalues\u001b[0m \u001b[0;34m(\u001b[0m\u001b[0;32mclass\u001b[0m \u001b[0mlabels\u001b[0m\u001b[0;34m)\u001b[0m \u001b[0;32mas\u001b[0m \u001b[0mintegers\u001b[0m \u001b[0;32mor\u001b[0m \u001b[0mstrings\u001b[0m\u001b[0;34m.\u001b[0m\u001b[0;34m\u001b[0m\u001b[0;34m\u001b[0m\u001b[0m\n",
      "\u001b[0;32m~/anaconda3/lib/python3.6/site-packages/sklearn/tree/_classes.py\u001b[0m in \u001b[0;36mfit\u001b[0;34m(self, X, y, sample_weight, check_input, X_idx_sorted)\u001b[0m\n\u001b[1;32m    190\u001b[0m         \u001b[0;32mif\u001b[0m \u001b[0mis_classification\u001b[0m\u001b[0;34m:\u001b[0m\u001b[0;34m\u001b[0m\u001b[0;34m\u001b[0m\u001b[0m\n\u001b[1;32m    191\u001b[0m             \u001b[0mcheck_classification_targets\u001b[0m\u001b[0;34m(\u001b[0m\u001b[0my\u001b[0m\u001b[0;34m)\u001b[0m\u001b[0;34m\u001b[0m\u001b[0;34m\u001b[0m\u001b[0m\n\u001b[0;32m--> 192\u001b[0;31m             \u001b[0my\u001b[0m \u001b[0;34m=\u001b[0m \u001b[0mnp\u001b[0m\u001b[0;34m.\u001b[0m\u001b[0mcopy\u001b[0m\u001b[0;34m(\u001b[0m\u001b[0my\u001b[0m\u001b[0;34m)\u001b[0m\u001b[0;34m\u001b[0m\u001b[0;34m\u001b[0m\u001b[0m\n\u001b[0m\u001b[1;32m    193\u001b[0m \u001b[0;34m\u001b[0m\u001b[0m\n\u001b[1;32m    194\u001b[0m             \u001b[0mself\u001b[0m\u001b[0;34m.\u001b[0m\u001b[0mclasses_\u001b[0m \u001b[0;34m=\u001b[0m \u001b[0;34m[\u001b[0m\u001b[0;34m]\u001b[0m\u001b[0;34m\u001b[0m\u001b[0;34m\u001b[0m\u001b[0m\n",
      "\u001b[0;32m~/anaconda3/lib/python3.6/site-packages/sklearn/utils/class_weight.py\u001b[0m in \u001b[0;36mcompute_sample_weight\u001b[0;34m(class_weight, y, indices)\u001b[0m\n\u001b[1;32m    117\u001b[0m         \u001b[0my\u001b[0m \u001b[0;34m=\u001b[0m \u001b[0mnp\u001b[0m\u001b[0;34m.\u001b[0m\u001b[0mreshape\u001b[0m\u001b[0;34m(\u001b[0m\u001b[0my\u001b[0m\u001b[0;34m,\u001b[0m \u001b[0;34m(\u001b[0m\u001b[0;34m-\u001b[0m\u001b[0;36m1\u001b[0m\u001b[0;34m,\u001b[0m \u001b[0;36m1\u001b[0m\u001b[0;34m)\u001b[0m\u001b[0;34m)\u001b[0m\u001b[0;34m\u001b[0m\u001b[0;34m\u001b[0m\u001b[0m\n\u001b[1;32m    118\u001b[0m     \u001b[0mn_outputs\u001b[0m \u001b[0;34m=\u001b[0m \u001b[0my\u001b[0m\u001b[0;34m.\u001b[0m\u001b[0mshape\u001b[0m\u001b[0;34m[\u001b[0m\u001b[0;36m1\u001b[0m\u001b[0;34m]\u001b[0m\u001b[0;34m\u001b[0m\u001b[0;34m\u001b[0m\u001b[0m\n\u001b[0;32m--> 119\u001b[0;31m \u001b[0;34m\u001b[0m\u001b[0m\n\u001b[0m\u001b[1;32m    120\u001b[0m     \u001b[0;32mif\u001b[0m \u001b[0misinstance\u001b[0m\u001b[0;34m(\u001b[0m\u001b[0mclass_weight\u001b[0m\u001b[0;34m,\u001b[0m \u001b[0mstr\u001b[0m\u001b[0;34m)\u001b[0m\u001b[0;34m:\u001b[0m\u001b[0;34m\u001b[0m\u001b[0;34m\u001b[0m\u001b[0m\n\u001b[1;32m    121\u001b[0m         \u001b[0;32mif\u001b[0m \u001b[0mclass_weight\u001b[0m \u001b[0;32mnot\u001b[0m \u001b[0;32min\u001b[0m \u001b[0;34m[\u001b[0m\u001b[0;34m'balanced'\u001b[0m\u001b[0;34m]\u001b[0m\u001b[0;34m:\u001b[0m\u001b[0;34m\u001b[0m\u001b[0;34m\u001b[0m\u001b[0m\n",
      "\u001b[0;31mValueError\u001b[0m: The only valid preset for class_weight is \"balanced\". Given \"auto\"."
     ]
    }
   ],
   "source": [
    "tree = DecisionTreeClassifier(max_depth=4,min_impurity_decrease=0.001)\n",
    "tree.fit(train_cols,data_dummy['clicked'])\n",
    "export_graphviz(tree,feature_names=train_cols.columns,proportion=True,rotate=True,out_file='tree_case_2.dot')\n",
    "Source.from_file('tree_case_2.dot')"
   ]
  },
  {
   "cell_type": "markdown",
   "metadata": {},
   "source": [
    "# partial dependency plot"
   ]
  },
  {
   "cell_type": "code",
   "execution_count": 116,
   "metadata": {},
   "outputs": [],
   "source": [
    "from pdpbox import pdp, info_plots\n",
    "from sklearn.ensemble import RandomForestClassifier\n",
    "from sklearn.inspection import plot_partial_dependence"
   ]
  },
  {
   "cell_type": "code",
   "execution_count": 112,
   "metadata": {},
   "outputs": [
    {
     "data": {
      "text/plain": [
       "RandomForestClassifier(bootstrap=True, ccp_alpha=0.0,\n",
       "                       class_weight={0: 0.05, 1: 0.95}, criterion='gini',\n",
       "                       max_depth=None, max_features='auto', max_leaf_nodes=None,\n",
       "                       max_samples=None, min_impurity_decrease=0.0,\n",
       "                       min_impurity_split=None, min_samples_leaf=1,\n",
       "                       min_samples_split=2, min_weight_fraction_leaf=0.0,\n",
       "                       n_estimators=50, n_jobs=None, oob_score=True,\n",
       "                       random_state=None, verbose=0, warm_start=False)"
      ]
     },
     "execution_count": 112,
     "metadata": {},
     "output_type": "execute_result"
    }
   ],
   "source": [
    "np.random.seed(123)\n",
    "rf = RandomForestClassifier(n_estimators=50,oob_score=True,class_weight={0:0.05,1:0.95})\n",
    "rf.fit(train_cols,data_dummy.clicked)"
   ]
  },
  {
   "cell_type": "code",
   "execution_count": 115,
   "metadata": {},
   "outputs": [
    {
     "name": "stdout",
     "output_type": "stream",
     "text": [
      "the accuracy is: 0.9775687843921961\n"
     ]
    }
   ],
   "source": [
    "print('the accuracy is:',rf.oob_score_)"
   ]
  },
  {
   "cell_type": "code",
   "execution_count": 139,
   "metadata": {},
   "outputs": [
    {
     "data": {
      "text/plain": [
       "[Text(0, 0, 'generic'), Text(0, 0, 'personalize')]"
      ]
     },
     "execution_count": 139,
     "metadata": {},
     "output_type": "execute_result"
    },
    {
     "data": {
      "image/png": "[encoded data removed]",
      "text/plain": [
       "<Figure size 1080x684 with 2 Axes>"
      ]
     },
     "metadata": {
      "needs_background": "light"
     },
     "output_type": "display_data"
    }
   ],
   "source": [
    "personalize_pdp_out=pdp.pdp_isolate(model=rf,dataset=train_cols,model_features=train_cols.columns,feature='email_version_personalized')\n",
    "fig,axes = pdp.pdp_plot(personalize_pdp_out,feature_name='email_version',center=False)\n",
    "axes['pdp_ax'].set_xticklabels(['generic','personalize'])"
   ]
  },
  {
   "cell_type": "code",
   "execution_count": 159,
   "metadata": {},
   "outputs": [
    {
     "data": {
      "text/plain": [
       "<matplotlib.axes._subplots.AxesSubplot at 0x7fb981c8c7b8>"
      ]
     },
     "execution_count": 159,
     "metadata": {},
     "output_type": "execute_result"
    },
    {
     "data": {
      "image/png": "[encoded data removed]",
      "text/plain": [
       "<Figure size 432x288 with 1 Axes>"
      ]
     },
     "metadata": {
      "needs_background": "light"
     },
     "output_type": "display_data"
    }
   ],
   "source": [
    "pd.DataFrame(dict(importance=rf.feature_importances_),index=train_cols.columns).sort_values(by='importance').plot(kind='barh')"
   ]
  },
  {
   "cell_type": "code",
   "execution_count": 183,
   "metadata": {},
   "outputs": [
    {
     "data": {
      "text/plain": [
       "<matplotlib.axes._subplots.AxesSubplot at 0x7fb9831bc6a0>"
      ]
     },
     "execution_count": 183,
     "metadata": {},
     "output_type": "execute_result"
    },
    {
     "data": {
      "image/png": "[encoded data removed]",
      "text/plain": [
       "<Figure size 432x288 with 1 Axes>"
      ]
     },
     "metadata": {
      "needs_background": "light"
     },
     "output_type": "display_data"
    }
   ],
   "source": [
    "id_pdp = pdp.pdp_isolate(model=rf,feature='email_id',dataset=train_cols,model_features=train_cols.columns,num_grid_points=100)\n",
    "pdp_dataset = pd.Series(id_pdp.pdp, index=id_pdp.feature_grids)\n",
    "pdp_dataset.plot()"
   ]
  },
  {
   "cell_type": "code",
   "execution_count": 234,
   "metadata": {},
   "outputs": [],
   "source": []
  },
  {
   "cell_type": "code",
   "execution_count": 255,
   "metadata": {},
   "outputs": [
    {
     "data": {
      "image/png": "[encoded data removed]",
      "text/plain": [
       "<Figure size 432x288 with 1 Axes>"
      ]
     },
     "metadata": {
      "needs_background": "light"
     },
     "output_type": "display_data"
    },
    {
     "data": {
      "image/png": "[encoded data removed]",
      "text/plain": [
       "<Figure size 432x288 with 1 Axes>"
      ]
     },
     "metadata": {
      "needs_background": "light"
     },
     "output_type": "display_data"
    },
    {
     "data": {
      "image/png": "[encoded data removed]",
      "text/plain": [
       "<Figure size 432x288 with 1 Axes>"
      ]
     },
     "metadata": {
      "needs_background": "light"
     },
     "output_type": "display_data"
    },
    {
     "data": {
      "image/png": "[encoded data removed]",
      "text/plain": [
       "<Figure size 432x288 with 1 Axes>"
      ]
     },
     "metadata": {
      "needs_background": "light"
     },
     "output_type": "display_data"
    },
    {
     "data": {
      "image/png": "[encoded data removed]",
      "text/plain": [
       "<Figure size 432x288 with 1 Axes>"
      ]
     },
     "metadata": {
      "needs_background": "light"
     },
     "output_type": "display_data"
    },
    {
     "data": {
      "image/png": "[encoded data removed]",
      "text/plain": [
       "<Figure size 432x288 with 1 Axes>"
      ]
     },
     "metadata": {
      "needs_background": "light"
     },
     "output_type": "display_data"
    },
    {
     "data": {
      "image/png": "[encoded data removed]",
      "text/plain": [
       "<Figure size 432x288 with 1 Axes>"
      ]
     },
     "metadata": {
      "needs_background": "light"
     },
     "output_type": "display_data"
    },
    {
     "data": {
      "text/plain": [
       "<Figure size 432x288 with 0 Axes>"
      ]
     },
     "metadata": {},
     "output_type": "display_data"
    }
   ],
   "source": [
    "columns = train_cols.columns.to_list()\n",
    "columns_used = []\n",
    "for variable in columns:\n",
    "    plt.clf()\n",
    "    cur_variable = [x for x in train_cols.columns if x.rsplit('_',1)[0] == variable.rsplit('_',1)[0] and x not in columns_used]\n",
    "    columns_used += cur_variable\n",
    "    if cur_variable != []:\n",
    "        if len(cur_variable) == 1:\n",
    "            pdp_iso = pdp.pdp_isolate(model=rf, dataset=train_cols, model_features=train_cols.columns, feature=cur_variable[0], num_grid_points=50)\n",
    "            pd.Series(pdp_iso.pdp,index=pdp_iso.display_columns).plot(kind='line')\n",
    "            plt.title(cur_variable[0])\n",
    "        else:\n",
    "            pdp_iso = pdp.pdp_isolate(model=rf, dataset=train_cols, model_features=train_cols.columns, feature=cur_variable, num_grid_points=50)\n",
    "            pd.Series(pdp_iso.pdp,index=pdp_iso.display_columns).sort_values().plot(kind='bar')\n",
    "            plt.title(cur_variable[0].rsplit('_',1)[0])\n",
    "        plt.show()\n",
    "#     plot_partial_dependence(estimator=rf,X=train_cols,features=cur_variable,feature_names=train_cols.columns)\n",
    "    \n",
    "        "
   ]
  },
  {
   "cell_type": "code",
   "execution_count": 228,
   "metadata": {},
   "outputs": [],
   "source": [
    "pdp_iso = pdp.pdp_isolate(model=rf, dataset=train_cols, model_features=train_cols.columns, feature='hour', num_grid_points=50)"
   ]
  },
  {
   "cell_type": "code",
   "execution_count": 254,
   "metadata": {},
   "outputs": [
    {
     "name": "stdout",
     "output_type": "stream",
     "text": [
      "['email_id']\n",
      "['hour']\n",
      "['user_past_purchases']\n",
      "['email_text_short_email']\n",
      "['email_version_personalized']\n",
      "['weekday_Monday', 'weekday_Saturday', 'weekday_Sunday', 'weekday_Thursday', 'weekday_Tuesday', 'weekday_Wednesday']\n",
      "[]\n",
      "[]\n",
      "[]\n",
      "[]\n",
      "[]\n",
      "['user_country_FR', 'user_country_UK', 'user_country_US']\n",
      "[]\n",
      "[]\n",
      "['email_id', 'hour', 'user_past_purchases', 'email_text_short_email', 'email_version_personalized', 'weekday_Monday', 'weekday_Saturday', 'weekday_Sunday', 'weekday_Thursday', 'weekday_Tuesday', 'weekday_Wednesday', 'user_country_FR', 'user_country_UK', 'user_country_US']\n"
     ]
    },
    {
     "data": {
      "text/plain": [
       "<Figure size 432x288 with 0 Axes>"
      ]
     },
     "metadata": {},
     "output_type": "display_data"
    }
   ],
   "source": [
    "columns = train_cols.columns.to_list()\n",
    "columns_used = []\n",
    "for variable in columns:\n",
    "    plt.clf()\n",
    "    cur_variable = [e for e in columns if e.rsplit('_',1)[0] == variable.rsplit('_',1)[0] and e not in columns_used]\n",
    "#     cur_variable += [x for x in train_cols.columns if x.rsplit('_',1)[0] == variable.rsplit('_',1)[0]]\n",
    "    print(cur_variable)\n",
    "    columns_used += cur_variable\n",
    "#     for c in cur_variable:\n",
    "#         columns.remove(c)\n",
    "print(columns)"
   ]
  },
  {
   "cell_type": "markdown",
   "metadata": {},
   "source": [
    "# Rulefit "
   ]
  },
  {
   "cell_type": "code",
   "execution_count": 18,
   "metadata": {},
   "outputs": [],
   "source": [
    "import pandas as pd\n",
    "import statsmodels.api as sm\n",
    "import numpy as np\n",
    "from sklearn.ensemble import RandomForestClassifier\n",
    "from sklearn.linear_model import LogisticRegression\n",
    "from rulefit import RuleFit"
   ]
  },
  {
   "cell_type": "code",
   "execution_count": 19,
   "metadata": {},
   "outputs": [],
   "source": [
    "np.random.seed(4686)\n",
    "data = pd.read_csv('https://drive.google.com/uc?export=download&id=1PXjbqSMu__d_ppEv92i_Gnx3kKgfvhFk')\n",
    "data = pd.get_dummies(data,drop_first=True)\n",
    "# data['intercept'] = 1\n",
    "X = data.drop('clicked',axis=1)\n",
    "y = data['clicked']\n",
    "rf = RandomForestClassifier(max_depth=2, n_estimators=10, class_weight={0:0.05,1:0.95})\n",
    "rufi = RuleFit(rfmode='classify',tree_generator=rf,exp_rand_tree_size=False,lin_standardise=False)\n",
    "rufi.fit(X.values,y.values,feature_names = X.columns)\n",
    "X_new = np.concatenate((X, rufi.transform(X.values)),axis=1)\n"
   ]
  },
  {
   "cell_type": "code",
   "execution_count": 20,
   "metadata": {},
   "outputs": [],
   "source": [
    "log = LogisticRegression(penalty='l1',solver='liblinear',C=0.1)\n",
    "log.fit(X_new,y)\n",
    "output = rufi.get_rules()\n",
    "output.iloc[:,2] = np.transpose(log.coef_)"
   ]
  },
  {
   "cell_type": "code",
   "execution_count": 21,
   "metadata": {},
   "outputs": [
    {
     "data": {
      "text/html": [
       "<div>\n",
       "<style scoped>\n",
       "    .dataframe tbody tr th:only-of-type {\n",
       "        vertical-align: middle;\n",
       "    }\n",
       "\n",
       "    .dataframe tbody tr th {\n",
       "        vertical-align: top;\n",
       "    }\n",
       "\n",
       "    .dataframe thead th {\n",
       "        text-align: right;\n",
       "    }\n",
       "</style>\n",
       "<table border=\"1\" class=\"dataframe\">\n",
       "  <thead>\n",
       "    <tr style=\"text-align: right;\">\n",
       "      <th></th>\n",
       "      <th>rule</th>\n",
       "      <th>type</th>\n",
       "      <th>coef</th>\n",
       "      <th>support</th>\n",
       "      <th>importance</th>\n",
       "    </tr>\n",
       "  </thead>\n",
       "  <tbody>\n",
       "    <tr>\n",
       "      <th>12</th>\n",
       "      <td>user_country_UK</td>\n",
       "      <td>linear</td>\n",
       "      <td>8.636993e-01</td>\n",
       "      <td>1.000000</td>\n",
       "      <td>0.000000</td>\n",
       "    </tr>\n",
       "    <tr>\n",
       "      <th>10</th>\n",
       "      <td>weekday_Wednesday</td>\n",
       "      <td>linear</td>\n",
       "      <td>4.792413e-01</td>\n",
       "      <td>1.000000</td>\n",
       "      <td>0.000000</td>\n",
       "    </tr>\n",
       "    <tr>\n",
       "      <th>9</th>\n",
       "      <td>weekday_Tuesday</td>\n",
       "      <td>linear</td>\n",
       "      <td>3.378769e-01</td>\n",
       "      <td>1.000000</td>\n",
       "      <td>0.000000</td>\n",
       "    </tr>\n",
       "    <tr>\n",
       "      <th>5</th>\n",
       "      <td>weekday_Monday</td>\n",
       "      <td>linear</td>\n",
       "      <td>2.608226e-01</td>\n",
       "      <td>1.000000</td>\n",
       "      <td>0.000000</td>\n",
       "    </tr>\n",
       "    <tr>\n",
       "      <th>8</th>\n",
       "      <td>weekday_Thursday</td>\n",
       "      <td>linear</td>\n",
       "      <td>2.557927e-01</td>\n",
       "      <td>1.000000</td>\n",
       "      <td>0.000000</td>\n",
       "    </tr>\n",
       "    <tr>\n",
       "      <th>2</th>\n",
       "      <td>user_past_purchases</td>\n",
       "      <td>linear</td>\n",
       "      <td>1.737295e-01</td>\n",
       "      <td>1.000000</td>\n",
       "      <td>0.000000</td>\n",
       "    </tr>\n",
       "    <tr>\n",
       "      <th>25</th>\n",
       "      <td>user_country_US &gt; 0.5 &amp; weekday_Thursday &gt; 0.5</td>\n",
       "      <td>rule</td>\n",
       "      <td>1.263357e-01</td>\n",
       "      <td>0.086879</td>\n",
       "      <td>0.000000</td>\n",
       "    </tr>\n",
       "    <tr>\n",
       "      <th>46</th>\n",
       "      <td>user_past_purchases &gt; 3.5 &amp; email_version_pers...</td>\n",
       "      <td>rule</td>\n",
       "      <td>1.126580e-01</td>\n",
       "      <td>0.235083</td>\n",
       "      <td>0.000000</td>\n",
       "    </tr>\n",
       "    <tr>\n",
       "      <th>34</th>\n",
       "      <td>email_version_personalized &gt; 0.5 &amp; user_countr...</td>\n",
       "      <td>rule</td>\n",
       "      <td>8.696946e-02</td>\n",
       "      <td>0.299828</td>\n",
       "      <td>0.000000</td>\n",
       "    </tr>\n",
       "    <tr>\n",
       "      <th>19</th>\n",
       "      <td>user_past_purchases &lt;= 5.5 &amp; email_version_per...</td>\n",
       "      <td>rule</td>\n",
       "      <td>4.369227e-02</td>\n",
       "      <td>0.360711</td>\n",
       "      <td>0.000000</td>\n",
       "    </tr>\n",
       "    <tr>\n",
       "      <th>1</th>\n",
       "      <td>hour</td>\n",
       "      <td>linear</td>\n",
       "      <td>5.375553e-03</td>\n",
       "      <td>1.000000</td>\n",
       "      <td>0.791500</td>\n",
       "    </tr>\n",
       "    <tr>\n",
       "      <th>0</th>\n",
       "      <td>email_id</td>\n",
       "      <td>linear</td>\n",
       "      <td>-7.548049e-08</td>\n",
       "      <td>1.000000</td>\n",
       "      <td>1.334601</td>\n",
       "    </tr>\n",
       "    <tr>\n",
       "      <th>26</th>\n",
       "      <td>user_past_purchases &gt; 5.5 &amp; email_text_short_e...</td>\n",
       "      <td>rule</td>\n",
       "      <td>-1.570280e-03</td>\n",
       "      <td>0.139706</td>\n",
       "      <td>0.000000</td>\n",
       "    </tr>\n",
       "    <tr>\n",
       "      <th>20</th>\n",
       "      <td>user_country_US &lt;= 0.5 &amp; user_country_FR &lt;= 0.5</td>\n",
       "      <td>rule</td>\n",
       "      <td>-3.985687e-03</td>\n",
       "      <td>0.299480</td>\n",
       "      <td>0.000000</td>\n",
       "    </tr>\n",
       "    <tr>\n",
       "      <th>49</th>\n",
       "      <td>user_country_UK &gt; 0.5 &amp; email_text_short_email...</td>\n",
       "      <td>rule</td>\n",
       "      <td>-1.477481e-02</td>\n",
       "      <td>0.100974</td>\n",
       "      <td>0.000000</td>\n",
       "    </tr>\n",
       "    <tr>\n",
       "      <th>11</th>\n",
       "      <td>user_country_FR</td>\n",
       "      <td>linear</td>\n",
       "      <td>-1.637759e-02</td>\n",
       "      <td>1.000000</td>\n",
       "      <td>0.000000</td>\n",
       "    </tr>\n",
       "    <tr>\n",
       "      <th>7</th>\n",
       "      <td>weekday_Sunday</td>\n",
       "      <td>linear</td>\n",
       "      <td>-2.005703e-02</td>\n",
       "      <td>1.000000</td>\n",
       "      <td>0.000000</td>\n",
       "    </tr>\n",
       "    <tr>\n",
       "      <th>24</th>\n",
       "      <td>user_country_FR &gt; 0.5 &amp; user_past_purchases &lt;=...</td>\n",
       "      <td>rule</td>\n",
       "      <td>-2.888204e-02</td>\n",
       "      <td>0.052760</td>\n",
       "      <td>0.000000</td>\n",
       "    </tr>\n",
       "    <tr>\n",
       "      <th>43</th>\n",
       "      <td>user_country_FR &lt;= 0.5 &amp; user_past_purchases &lt;...</td>\n",
       "      <td>rule</td>\n",
       "      <td>-3.779133e-02</td>\n",
       "      <td>0.473050</td>\n",
       "      <td>0.000000</td>\n",
       "    </tr>\n",
       "    <tr>\n",
       "      <th>47</th>\n",
       "      <td>user_country_FR &lt;= 0.5 &amp; email_text_short_emai...</td>\n",
       "      <td>rule</td>\n",
       "      <td>-1.013195e-01</td>\n",
       "      <td>0.449326</td>\n",
       "      <td>0.000000</td>\n",
       "    </tr>\n",
       "    <tr>\n",
       "      <th>39</th>\n",
       "      <td>user_country_UK &lt;= 0.5 &amp; email_text_short_emai...</td>\n",
       "      <td>rule</td>\n",
       "      <td>-1.067867e-01</td>\n",
       "      <td>0.402141</td>\n",
       "      <td>0.000000</td>\n",
       "    </tr>\n",
       "    <tr>\n",
       "      <th>40</th>\n",
       "      <td>email_version_personalized &lt;= 0.5 &amp; hour &gt; 8.5</td>\n",
       "      <td>rule</td>\n",
       "      <td>-1.201526e-01</td>\n",
       "      <td>0.263935</td>\n",
       "      <td>0.000000</td>\n",
       "    </tr>\n",
       "    <tr>\n",
       "      <th>22</th>\n",
       "      <td>email_version_personalized &lt;= 0.5 &amp; user_past_...</td>\n",
       "      <td>rule</td>\n",
       "      <td>-1.226573e-01</td>\n",
       "      <td>0.183681</td>\n",
       "      <td>0.000000</td>\n",
       "    </tr>\n",
       "    <tr>\n",
       "      <th>41</th>\n",
       "      <td>user_past_purchases &gt; 5.5 &amp; user_past_purchase...</td>\n",
       "      <td>rule</td>\n",
       "      <td>-1.350193e-01</td>\n",
       "      <td>0.093423</td>\n",
       "      <td>0.000000</td>\n",
       "    </tr>\n",
       "    <tr>\n",
       "      <th>29</th>\n",
       "      <td>user_past_purchases &lt;= 5.5 &amp; email_text_short_...</td>\n",
       "      <td>rule</td>\n",
       "      <td>-1.436979e-01</td>\n",
       "      <td>0.363223</td>\n",
       "      <td>0.000000</td>\n",
       "    </tr>\n",
       "    <tr>\n",
       "      <th>42</th>\n",
       "      <td>user_country_US &lt;= 0.5 &amp; user_country_FR &gt; 0.5</td>\n",
       "      <td>rule</td>\n",
       "      <td>-2.102523e-01</td>\n",
       "      <td>0.099600</td>\n",
       "      <td>0.000000</td>\n",
       "    </tr>\n",
       "    <tr>\n",
       "      <th>37</th>\n",
       "      <td>email_version_personalized &lt;= 0.5 &amp; hour &lt;= 8.5</td>\n",
       "      <td>rule</td>\n",
       "      <td>-3.714965e-01</td>\n",
       "      <td>0.236905</td>\n",
       "      <td>0.000000</td>\n",
       "    </tr>\n",
       "    <tr>\n",
       "      <th>32</th>\n",
       "      <td>email_version_personalized &lt;= 0.5 &amp; user_past_...</td>\n",
       "      <td>rule</td>\n",
       "      <td>-3.731390e-01</td>\n",
       "      <td>0.319422</td>\n",
       "      <td>0.000000</td>\n",
       "    </tr>\n",
       "    <tr>\n",
       "      <th>27</th>\n",
       "      <td>user_country_US &lt;= 0.5 &amp; user_past_purchases &gt;...</td>\n",
       "      <td>rule</td>\n",
       "      <td>-8.131570e-01</td>\n",
       "      <td>0.188509</td>\n",
       "      <td>0.000000</td>\n",
       "    </tr>\n",
       "    <tr>\n",
       "      <th>45</th>\n",
       "      <td>user_country_US &lt;= 0.5 &amp; user_past_purchases &lt;...</td>\n",
       "      <td>rule</td>\n",
       "      <td>-8.669823e-01</td>\n",
       "      <td>0.210138</td>\n",
       "      <td>0.000000</td>\n",
       "    </tr>\n",
       "  </tbody>\n",
       "</table>\n",
       "</div>"
      ],
      "text/plain": [
       "                                                 rule    type          coef  \\\n",
       "12                                    user_country_UK  linear  8.636993e-01   \n",
       "10                                  weekday_Wednesday  linear  4.792413e-01   \n",
       "9                                     weekday_Tuesday  linear  3.378769e-01   \n",
       "5                                      weekday_Monday  linear  2.608226e-01   \n",
       "8                                    weekday_Thursday  linear  2.557927e-01   \n",
       "2                                 user_past_purchases  linear  1.737295e-01   \n",
       "25     user_country_US > 0.5 & weekday_Thursday > 0.5    rule  1.263357e-01   \n",
       "46  user_past_purchases > 3.5 & email_version_pers...    rule  1.126580e-01   \n",
       "34  email_version_personalized > 0.5 & user_countr...    rule  8.696946e-02   \n",
       "19  user_past_purchases <= 5.5 & email_version_per...    rule  4.369227e-02   \n",
       "1                                                hour  linear  5.375553e-03   \n",
       "0                                            email_id  linear -7.548049e-08   \n",
       "26  user_past_purchases > 5.5 & email_text_short_e...    rule -1.570280e-03   \n",
       "20    user_country_US <= 0.5 & user_country_FR <= 0.5    rule -3.985687e-03   \n",
       "49  user_country_UK > 0.5 & email_text_short_email...    rule -1.477481e-02   \n",
       "11                                    user_country_FR  linear -1.637759e-02   \n",
       "7                                      weekday_Sunday  linear -2.005703e-02   \n",
       "24  user_country_FR > 0.5 & user_past_purchases <=...    rule -2.888204e-02   \n",
       "43  user_country_FR <= 0.5 & user_past_purchases <...    rule -3.779133e-02   \n",
       "47  user_country_FR <= 0.5 & email_text_short_emai...    rule -1.013195e-01   \n",
       "39  user_country_UK <= 0.5 & email_text_short_emai...    rule -1.067867e-01   \n",
       "40     email_version_personalized <= 0.5 & hour > 8.5    rule -1.201526e-01   \n",
       "22  email_version_personalized <= 0.5 & user_past_...    rule -1.226573e-01   \n",
       "41  user_past_purchases > 5.5 & user_past_purchase...    rule -1.350193e-01   \n",
       "29  user_past_purchases <= 5.5 & email_text_short_...    rule -1.436979e-01   \n",
       "42     user_country_US <= 0.5 & user_country_FR > 0.5    rule -2.102523e-01   \n",
       "37    email_version_personalized <= 0.5 & hour <= 8.5    rule -3.714965e-01   \n",
       "32  email_version_personalized <= 0.5 & user_past_...    rule -3.731390e-01   \n",
       "27  user_country_US <= 0.5 & user_past_purchases >...    rule -8.131570e-01   \n",
       "45  user_country_US <= 0.5 & user_past_purchases <...    rule -8.669823e-01   \n",
       "\n",
       "     support  importance  \n",
       "12  1.000000    0.000000  \n",
       "10  1.000000    0.000000  \n",
       "9   1.000000    0.000000  \n",
       "5   1.000000    0.000000  \n",
       "8   1.000000    0.000000  \n",
       "2   1.000000    0.000000  \n",
       "25  0.086879    0.000000  \n",
       "46  0.235083    0.000000  \n",
       "34  0.299828    0.000000  \n",
       "19  0.360711    0.000000  \n",
       "1   1.000000    0.791500  \n",
       "0   1.000000    1.334601  \n",
       "26  0.139706    0.000000  \n",
       "20  0.299480    0.000000  \n",
       "49  0.100974    0.000000  \n",
       "11  1.000000    0.000000  \n",
       "7   1.000000    0.000000  \n",
       "24  0.052760    0.000000  \n",
       "43  0.473050    0.000000  \n",
       "47  0.449326    0.000000  \n",
       "39  0.402141    0.000000  \n",
       "40  0.263935    0.000000  \n",
       "22  0.183681    0.000000  \n",
       "41  0.093423    0.000000  \n",
       "29  0.363223    0.000000  \n",
       "42  0.099600    0.000000  \n",
       "37  0.236905    0.000000  \n",
       "32  0.319422    0.000000  \n",
       "27  0.188509    0.000000  \n",
       "45  0.210138    0.000000  "
      ]
     },
     "execution_count": 21,
     "metadata": {},
     "output_type": "execute_result"
    }
   ],
   "source": [
    "output[output.coef != 0].sort_values('coef',ascending=False)"
   ]
  },
  {
   "cell_type": "code",
   "execution_count": null,
   "metadata": {},
   "outputs": [],
   "source": []
  },
  {
   "cell_type": "markdown",
   "metadata": {},
   "source": [
    "# email_open"
   ]
  },
  {
   "cell_type": "code",
   "execution_count": 80,
   "metadata": {},
   "outputs": [
    {
     "data": {
      "text/plain": [
       "<matplotlib.axes._subplots.AxesSubplot at 0x7fdd4080d320>"
      ]
     },
     "execution_count": 80,
     "metadata": {},
     "output_type": "execute_result"
    },
    {
     "data": {
      "image/png": "[encoded data removed]",
      "text/plain": [
       "<Figure size 432x288 with 1 Axes>"
      ]
     },
     "metadata": {
      "needs_background": "light"
     },
     "output_type": "display_data"
    }
   ],
   "source": [
    "email_opened.groupby('email_text').size().plot(kind='bar')"
   ]
  },
  {
   "cell_type": "code",
   "execution_count": 82,
   "metadata": {},
   "outputs": [
    {
     "data": {
      "text/plain": [
       "<matplotlib.axes._subplots.AxesSubplot at 0x7fdd40b40eb8>"
      ]
     },
     "execution_count": 82,
     "metadata": {},
     "output_type": "execute_result"
    },
    {
     "data": {
      "image/png": "[encoded data removed]",
      "text/plain": [
       "<Figure size 432x288 with 1 Axes>"
      ]
     },
     "metadata": {
      "needs_background": "light"
     },
     "output_type": "display_data"
    }
   ],
   "source": [
    "email_opened.groupby('email_version').size().plot(kind='bar')"
   ]
  },
  {
   "cell_type": "code",
   "execution_count": 87,
   "metadata": {},
   "outputs": [
    {
     "data": {
      "text/plain": [
       "<matplotlib.axes._subplots.AxesSubplot at 0x7fdd40fa4f60>"
      ]
     },
     "execution_count": 87,
     "metadata": {},
     "output_type": "execute_result"
    },
    {
     "data": {
      "image/png": "[encoded data removed]",
      "text/plain": [
       "<Figure size 432x288 with 1 Axes>"
      ]
     },
     "metadata": {
      "needs_background": "light"
     },
     "output_type": "display_data"
    }
   ],
   "source": [
    "email_opened.groupby('weekday').size().sort_values().plot(kind='bar')"
   ]
  },
  {
   "cell_type": "code",
   "execution_count": 85,
   "metadata": {},
   "outputs": [
    {
     "data": {
      "text/plain": [
       "<matplotlib.axes._subplots.AxesSubplot at 0x7fdd40c175c0>"
      ]
     },
     "execution_count": 85,
     "metadata": {},
     "output_type": "execute_result"
    },
    {
     "data": {
      "image/png": "[encoded data removed]",
      "text/plain": [
       "<Figure size 432x288 with 1 Axes>"
      ]
     },
     "metadata": {
      "needs_background": "light"
     },
     "output_type": "display_data"
    }
   ],
   "source": [
    "email_opened.groupby('hour').size().plot(kind='bar')"
   ]
  },
  {
   "cell_type": "code",
   "execution_count": 84,
   "metadata": {},
   "outputs": [
    {
     "data": {
      "text/plain": [
       "<matplotlib.axes._subplots.AxesSubplot at 0x7fdd40d62d30>"
      ]
     },
     "execution_count": 84,
     "metadata": {},
     "output_type": "execute_result"
    },
    {
     "data": {
      "image/png": "[encoded data removed]",
      "text/plain": [
       "<Figure size 432x288 with 1 Axes>"
      ]
     },
     "metadata": {
      "needs_background": "light"
     },
     "output_type": "display_data"
    }
   ],
   "source": [
    "email_opened.groupby('user_country').size().plot(kind='bar')"
   ]
  },
  {
   "cell_type": "code",
   "execution_count": 86,
   "metadata": {},
   "outputs": [
    {
     "data": {
      "text/plain": [
       "<matplotlib.axes._subplots.AxesSubplot at 0x7fdd40e3f8d0>"
      ]
     },
     "execution_count": 86,
     "metadata": {},
     "output_type": "execute_result"
    },
    {
     "data": {
      "image/png": "[encoded data removed]",
      "text/plain": [
       "<Figure size 432x288 with 1 Axes>"
      ]
     },
     "metadata": {
      "needs_background": "light"
     },
     "output_type": "display_data"
    }
   ],
   "source": [
    "email_opened.groupby('user_past_purchases').size().plot(kind='bar')"
   ]
  },
  {
   "cell_type": "markdown",
   "metadata": {},
   "source": [
    "# some quick observations:\n",
    "\n",
    "+ short emails perform better than long emails interms of opened number\n",
    "\n",
    "+ more personalized version emails are opened\n",
    "\n",
    "+ more emails are opened during weekdays compared with weekends\n",
    "\n",
    "+ more email (sent in the morning) are opened\n",
    "\n",
    "+ the site may be a US basef website or the email is in English since the open rate for these two country are significantly high than the rest two\n",
    "\n",
    "+ more email are opened by the user with less past purchases\n"
   ]
  },
  {
   "cell_type": "code",
   "execution_count": null,
   "metadata": {},
   "outputs": [],
   "source": [
    "X_train, X_test, y_train, y_test = train_test_split()"
   ]
  },
  {
   "cell_type": "code",
   "execution_count": 11,
   "metadata": {},
   "outputs": [
    {
     "data": {
      "text/html": [
       "<div>\n",
       "<style scoped>\n",
       "    .dataframe tbody tr th:only-of-type {\n",
       "        vertical-align: middle;\n",
       "    }\n",
       "\n",
       "    .dataframe tbody tr th {\n",
       "        vertical-align: top;\n",
       "    }\n",
       "\n",
       "    .dataframe thead th {\n",
       "        text-align: right;\n",
       "    }\n",
       "</style>\n",
       "<table border=\"1\" class=\"dataframe\">\n",
       "  <thead>\n",
       "    <tr style=\"text-align: right;\">\n",
       "      <th></th>\n",
       "      <th>email_id</th>\n",
       "      <th>email_text</th>\n",
       "      <th>email_version</th>\n",
       "      <th>hour</th>\n",
       "      <th>weekday</th>\n",
       "      <th>user_country</th>\n",
       "      <th>user_past_purchases</th>\n",
       "    </tr>\n",
       "  </thead>\n",
       "  <tbody>\n",
       "    <tr>\n",
       "      <th>0</th>\n",
       "      <td>85120</td>\n",
       "      <td>short_email</td>\n",
       "      <td>personalized</td>\n",
       "      <td>2</td>\n",
       "      <td>Sunday</td>\n",
       "      <td>US</td>\n",
       "      <td>5</td>\n",
       "    </tr>\n",
       "    <tr>\n",
       "      <th>1</th>\n",
       "      <td>966622</td>\n",
       "      <td>long_email</td>\n",
       "      <td>personalized</td>\n",
       "      <td>12</td>\n",
       "      <td>Sunday</td>\n",
       "      <td>UK</td>\n",
       "      <td>2</td>\n",
       "    </tr>\n",
       "    <tr>\n",
       "      <th>2</th>\n",
       "      <td>777221</td>\n",
       "      <td>long_email</td>\n",
       "      <td>personalized</td>\n",
       "      <td>11</td>\n",
       "      <td>Wednesday</td>\n",
       "      <td>US</td>\n",
       "      <td>2</td>\n",
       "    </tr>\n",
       "    <tr>\n",
       "      <th>3</th>\n",
       "      <td>493711</td>\n",
       "      <td>short_email</td>\n",
       "      <td>generic</td>\n",
       "      <td>6</td>\n",
       "      <td>Monday</td>\n",
       "      <td>UK</td>\n",
       "      <td>1</td>\n",
       "    </tr>\n",
       "    <tr>\n",
       "      <th>4</th>\n",
       "      <td>106887</td>\n",
       "      <td>long_email</td>\n",
       "      <td>generic</td>\n",
       "      <td>14</td>\n",
       "      <td>Monday</td>\n",
       "      <td>US</td>\n",
       "      <td>6</td>\n",
       "    </tr>\n",
       "    <tr>\n",
       "      <th>...</th>\n",
       "      <td>...</td>\n",
       "      <td>...</td>\n",
       "      <td>...</td>\n",
       "      <td>...</td>\n",
       "      <td>...</td>\n",
       "      <td>...</td>\n",
       "      <td>...</td>\n",
       "    </tr>\n",
       "    <tr>\n",
       "      <th>99995</th>\n",
       "      <td>803504</td>\n",
       "      <td>short_email</td>\n",
       "      <td>personalized</td>\n",
       "      <td>4</td>\n",
       "      <td>Monday</td>\n",
       "      <td>US</td>\n",
       "      <td>5</td>\n",
       "    </tr>\n",
       "    <tr>\n",
       "      <th>99996</th>\n",
       "      <td>899722</td>\n",
       "      <td>long_email</td>\n",
       "      <td>personalized</td>\n",
       "      <td>7</td>\n",
       "      <td>Saturday</td>\n",
       "      <td>US</td>\n",
       "      <td>1</td>\n",
       "    </tr>\n",
       "    <tr>\n",
       "      <th>99997</th>\n",
       "      <td>449610</td>\n",
       "      <td>long_email</td>\n",
       "      <td>personalized</td>\n",
       "      <td>11</td>\n",
       "      <td>Saturday</td>\n",
       "      <td>UK</td>\n",
       "      <td>6</td>\n",
       "    </tr>\n",
       "    <tr>\n",
       "      <th>99998</th>\n",
       "      <td>72497</td>\n",
       "      <td>short_email</td>\n",
       "      <td>generic</td>\n",
       "      <td>10</td>\n",
       "      <td>Monday</td>\n",
       "      <td>UK</td>\n",
       "      <td>0</td>\n",
       "    </tr>\n",
       "    <tr>\n",
       "      <th>99999</th>\n",
       "      <td>348333</td>\n",
       "      <td>long_email</td>\n",
       "      <td>personalized</td>\n",
       "      <td>8</td>\n",
       "      <td>Sunday</td>\n",
       "      <td>UK</td>\n",
       "      <td>1</td>\n",
       "    </tr>\n",
       "  </tbody>\n",
       "</table>\n",
       "<p>100000 rows × 7 columns</p>\n",
       "</div>"
      ],
      "text/plain": [
       "       email_id   email_text email_version  hour    weekday user_country  \\\n",
       "0         85120  short_email  personalized     2     Sunday           US   \n",
       "1        966622   long_email  personalized    12     Sunday           UK   \n",
       "2        777221   long_email  personalized    11  Wednesday           US   \n",
       "3        493711  short_email       generic     6     Monday           UK   \n",
       "4        106887   long_email       generic    14     Monday           US   \n",
       "...         ...          ...           ...   ...        ...          ...   \n",
       "99995    803504  short_email  personalized     4     Monday           US   \n",
       "99996    899722   long_email  personalized     7   Saturday           US   \n",
       "99997    449610   long_email  personalized    11   Saturday           UK   \n",
       "99998     72497  short_email       generic    10     Monday           UK   \n",
       "99999    348333   long_email  personalized     8     Sunday           UK   \n",
       "\n",
       "       user_past_purchases  \n",
       "0                        5  \n",
       "1                        2  \n",
       "2                        2  \n",
       "3                        1  \n",
       "4                        6  \n",
       "...                    ...  \n",
       "99995                    5  \n",
       "99996                    1  \n",
       "99997                    6  \n",
       "99998                    0  \n",
       "99999                    1  \n",
       "\n",
       "[100000 rows x 7 columns]"
      ]
     },
     "execution_count": 11,
     "metadata": {},
     "output_type": "execute_result"
    }
   ],
   "source": [
    "email"
   ]
  },
  {
   "cell_type": "code",
   "execution_count": null,
   "metadata": {},
   "outputs": [],
   "source": []
  },
  {
   "cell_type": "code",
   "execution_count": 40,
   "metadata": {},
   "outputs": [
    {
     "data": {
      "text/html": [
       "<div>\n",
       "<style scoped>\n",
       "    .dataframe tbody tr th:only-of-type {\n",
       "        vertical-align: middle;\n",
       "    }\n",
       "\n",
       "    .dataframe tbody tr th {\n",
       "        vertical-align: top;\n",
       "    }\n",
       "\n",
       "    .dataframe thead th {\n",
       "        text-align: right;\n",
       "    }\n",
       "</style>\n",
       "<table border=\"1\" class=\"dataframe\">\n",
       "  <thead>\n",
       "    <tr style=\"text-align: right;\">\n",
       "      <th></th>\n",
       "      <th>email_id</th>\n",
       "      <th>hour</th>\n",
       "      <th>user_past_purchases</th>\n",
       "      <th>link_clicked</th>\n",
       "      <th>email_text_short_email</th>\n",
       "      <th>email_version_personalized</th>\n",
       "      <th>weekday_Monday</th>\n",
       "      <th>weekday_Saturday</th>\n",
       "      <th>weekday_Sunday</th>\n",
       "      <th>weekday_Thursday</th>\n",
       "      <th>weekday_Tuesday</th>\n",
       "      <th>weekday_Wednesday</th>\n",
       "      <th>user_country_FR</th>\n",
       "      <th>user_country_UK</th>\n",
       "      <th>user_country_US</th>\n",
       "    </tr>\n",
       "  </thead>\n",
       "  <tbody>\n",
       "    <tr>\n",
       "      <th>0</th>\n",
       "      <td>85120</td>\n",
       "      <td>2</td>\n",
       "      <td>5</td>\n",
       "      <td>0</td>\n",
       "      <td>1</td>\n",
       "      <td>1</td>\n",
       "      <td>0</td>\n",
       "      <td>0</td>\n",
       "      <td>1</td>\n",
       "      <td>0</td>\n",
       "      <td>0</td>\n",
       "      <td>0</td>\n",
       "      <td>0</td>\n",
       "      <td>0</td>\n",
       "      <td>1</td>\n",
       "    </tr>\n",
       "    <tr>\n",
       "      <th>1</th>\n",
       "      <td>966622</td>\n",
       "      <td>12</td>\n",
       "      <td>2</td>\n",
       "      <td>1</td>\n",
       "      <td>0</td>\n",
       "      <td>1</td>\n",
       "      <td>0</td>\n",
       "      <td>0</td>\n",
       "      <td>1</td>\n",
       "      <td>0</td>\n",
       "      <td>0</td>\n",
       "      <td>0</td>\n",
       "      <td>0</td>\n",
       "      <td>1</td>\n",
       "      <td>0</td>\n",
       "    </tr>\n",
       "    <tr>\n",
       "      <th>2</th>\n",
       "      <td>777221</td>\n",
       "      <td>11</td>\n",
       "      <td>2</td>\n",
       "      <td>0</td>\n",
       "      <td>0</td>\n",
       "      <td>1</td>\n",
       "      <td>0</td>\n",
       "      <td>0</td>\n",
       "      <td>0</td>\n",
       "      <td>0</td>\n",
       "      <td>0</td>\n",
       "      <td>1</td>\n",
       "      <td>0</td>\n",
       "      <td>0</td>\n",
       "      <td>1</td>\n",
       "    </tr>\n",
       "    <tr>\n",
       "      <th>3</th>\n",
       "      <td>493711</td>\n",
       "      <td>6</td>\n",
       "      <td>1</td>\n",
       "      <td>0</td>\n",
       "      <td>1</td>\n",
       "      <td>0</td>\n",
       "      <td>1</td>\n",
       "      <td>0</td>\n",
       "      <td>0</td>\n",
       "      <td>0</td>\n",
       "      <td>0</td>\n",
       "      <td>0</td>\n",
       "      <td>0</td>\n",
       "      <td>1</td>\n",
       "      <td>0</td>\n",
       "    </tr>\n",
       "    <tr>\n",
       "      <th>4</th>\n",
       "      <td>106887</td>\n",
       "      <td>14</td>\n",
       "      <td>6</td>\n",
       "      <td>0</td>\n",
       "      <td>0</td>\n",
       "      <td>0</td>\n",
       "      <td>1</td>\n",
       "      <td>0</td>\n",
       "      <td>0</td>\n",
       "      <td>0</td>\n",
       "      <td>0</td>\n",
       "      <td>0</td>\n",
       "      <td>0</td>\n",
       "      <td>0</td>\n",
       "      <td>1</td>\n",
       "    </tr>\n",
       "    <tr>\n",
       "      <th>...</th>\n",
       "      <td>...</td>\n",
       "      <td>...</td>\n",
       "      <td>...</td>\n",
       "      <td>...</td>\n",
       "      <td>...</td>\n",
       "      <td>...</td>\n",
       "      <td>...</td>\n",
       "      <td>...</td>\n",
       "      <td>...</td>\n",
       "      <td>...</td>\n",
       "      <td>...</td>\n",
       "      <td>...</td>\n",
       "      <td>...</td>\n",
       "      <td>...</td>\n",
       "      <td>...</td>\n",
       "    </tr>\n",
       "    <tr>\n",
       "      <th>99995</th>\n",
       "      <td>803504</td>\n",
       "      <td>4</td>\n",
       "      <td>5</td>\n",
       "      <td>0</td>\n",
       "      <td>1</td>\n",
       "      <td>1</td>\n",
       "      <td>1</td>\n",
       "      <td>0</td>\n",
       "      <td>0</td>\n",
       "      <td>0</td>\n",
       "      <td>0</td>\n",
       "      <td>0</td>\n",
       "      <td>0</td>\n",
       "      <td>0</td>\n",
       "      <td>1</td>\n",
       "    </tr>\n",
       "    <tr>\n",
       "      <th>99996</th>\n",
       "      <td>899722</td>\n",
       "      <td>7</td>\n",
       "      <td>1</td>\n",
       "      <td>0</td>\n",
       "      <td>0</td>\n",
       "      <td>1</td>\n",
       "      <td>0</td>\n",
       "      <td>1</td>\n",
       "      <td>0</td>\n",
       "      <td>0</td>\n",
       "      <td>0</td>\n",
       "      <td>0</td>\n",
       "      <td>0</td>\n",
       "      <td>0</td>\n",
       "      <td>1</td>\n",
       "    </tr>\n",
       "    <tr>\n",
       "      <th>99997</th>\n",
       "      <td>449610</td>\n",
       "      <td>11</td>\n",
       "      <td>6</td>\n",
       "      <td>0</td>\n",
       "      <td>0</td>\n",
       "      <td>1</td>\n",
       "      <td>0</td>\n",
       "      <td>1</td>\n",
       "      <td>0</td>\n",
       "      <td>0</td>\n",
       "      <td>0</td>\n",
       "      <td>0</td>\n",
       "      <td>0</td>\n",
       "      <td>1</td>\n",
       "      <td>0</td>\n",
       "    </tr>\n",
       "    <tr>\n",
       "      <th>99998</th>\n",
       "      <td>72497</td>\n",
       "      <td>10</td>\n",
       "      <td>0</td>\n",
       "      <td>0</td>\n",
       "      <td>1</td>\n",
       "      <td>0</td>\n",
       "      <td>1</td>\n",
       "      <td>0</td>\n",
       "      <td>0</td>\n",
       "      <td>0</td>\n",
       "      <td>0</td>\n",
       "      <td>0</td>\n",
       "      <td>0</td>\n",
       "      <td>1</td>\n",
       "      <td>0</td>\n",
       "    </tr>\n",
       "    <tr>\n",
       "      <th>99999</th>\n",
       "      <td>348333</td>\n",
       "      <td>8</td>\n",
       "      <td>1</td>\n",
       "      <td>1</td>\n",
       "      <td>0</td>\n",
       "      <td>1</td>\n",
       "      <td>0</td>\n",
       "      <td>0</td>\n",
       "      <td>1</td>\n",
       "      <td>0</td>\n",
       "      <td>0</td>\n",
       "      <td>0</td>\n",
       "      <td>0</td>\n",
       "      <td>1</td>\n",
       "      <td>0</td>\n",
       "    </tr>\n",
       "  </tbody>\n",
       "</table>\n",
       "<p>100000 rows × 15 columns</p>\n",
       "</div>"
      ],
      "text/plain": [
       "       email_id  hour  user_past_purchases  link_clicked  \\\n",
       "0         85120     2                    5             0   \n",
       "1        966622    12                    2             1   \n",
       "2        777221    11                    2             0   \n",
       "3        493711     6                    1             0   \n",
       "4        106887    14                    6             0   \n",
       "...         ...   ...                  ...           ...   \n",
       "99995    803504     4                    5             0   \n",
       "99996    899722     7                    1             0   \n",
       "99997    449610    11                    6             0   \n",
       "99998     72497    10                    0             0   \n",
       "99999    348333     8                    1             1   \n",
       "\n",
       "       email_text_short_email  email_version_personalized  weekday_Monday  \\\n",
       "0                           1                           1               0   \n",
       "1                           0                           1               0   \n",
       "2                           0                           1               0   \n",
       "3                           1                           0               1   \n",
       "4                           0                           0               1   \n",
       "...                       ...                         ...             ...   \n",
       "99995                       1                           1               1   \n",
       "99996                       0                           1               0   \n",
       "99997                       0                           1               0   \n",
       "99998                       1                           0               1   \n",
       "99999                       0                           1               0   \n",
       "\n",
       "       weekday_Saturday  weekday_Sunday  weekday_Thursday  weekday_Tuesday  \\\n",
       "0                     0               1                 0                0   \n",
       "1                     0               1                 0                0   \n",
       "2                     0               0                 0                0   \n",
       "3                     0               0                 0                0   \n",
       "4                     0               0                 0                0   \n",
       "...                 ...             ...               ...              ...   \n",
       "99995                 0               0                 0                0   \n",
       "99996                 1               0                 0                0   \n",
       "99997                 1               0                 0                0   \n",
       "99998                 0               0                 0                0   \n",
       "99999                 0               1                 0                0   \n",
       "\n",
       "       weekday_Wednesday  user_country_FR  user_country_UK  user_country_US  \n",
       "0                      0                0                0                1  \n",
       "1                      0                0                1                0  \n",
       "2                      1                0                0                1  \n",
       "3                      0                0                1                0  \n",
       "4                      0                0                0                1  \n",
       "...                  ...              ...              ...              ...  \n",
       "99995                  0                0                0                1  \n",
       "99996                  0                0                0                1  \n",
       "99997                  0                0                1                0  \n",
       "99998                  0                0                1                0  \n",
       "99999                  0                0                1                0  \n",
       "\n",
       "[100000 rows x 15 columns]"
      ]
     },
     "execution_count": 40,
     "metadata": {},
     "output_type": "execute_result"
    }
   ],
   "source": [
    "X_train, X_test, y_train,y_test = train_test_split(email.drop('link_clicked'),email.link_clicked,random)"
   ]
  }
 ],
 "metadata": {
  "kernelspec": {
   "display_name": "Python 3",
   "language": "python",
   "name": "python3"
  },
  "language_info": {
   "codemirror_mode": {
    "name": "ipython",
    "version": 3
   },
   "file_extension": ".py",
   "mimetype": "text/x-python",
   "name": "python",
   "nbconvert_exporter": "python",
   "pygments_lexer": "ipython3",
   "version": "3.6.8"
  }
 },
 "nbformat": 4,
 "nbformat_minor": 2
}
